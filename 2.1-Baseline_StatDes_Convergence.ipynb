{
 "cells": [
  {
   "cell_type": "markdown",
   "metadata": {},
   "source": [
    "# Reproducing Calvano et al. (2020)\n",
    "## Baseline - Stat des - Convergence\n",
    "### Author: Andréa Epivent"
   ]
  },
  {
   "cell_type": "code",
   "execution_count": null,
   "metadata": {},
   "outputs": [],
   "source": [
    "# Set working directory\n",
    "path = \"/Users/admin/Desktop/PhD/RL_AlgorithmicCollusion\"\n",
    "\n",
    "# Import packages and custom functions\n",
    "exec(open(path+\"/Functions/import.py\").read())\n",
    "\n",
    "# Import parameters\n",
    "exec(open(path+\"/Functions/parameters.py\").read())"
   ]
  },
  {
   "cell_type": "code",
   "execution_count": 26,
   "metadata": {},
   "outputs": [],
   "source": [
    "# Import data from training\n",
    "q_table_1 = np.load(path+'/Output/Baseline/q_table_a1.npy')\n",
    "q_table_2 = np.load(path+'/Output/Baseline/q_table_a2.npy')\n",
    "q_info = np.load(path+'/Output/Baseline/q_info.npy')\n",
    "A = np.load(path+'/Output/Baseline/actions.npy')\n",
    "S = np.load(path+'/Output/Baseline/states.npy')"
   ]
  },
  {
   "cell_type": "markdown",
   "metadata": {},
   "source": [
    "### Retrieve number of iterations for each episode"
   ]
  },
  {
   "cell_type": "code",
   "execution_count": 27,
   "metadata": {},
   "outputs": [],
   "source": [
    "n_iterations = np.zeros((n_episodes,))\n",
    "for j in range(n_episodes):\n",
    "    if q_info[criterion_final-1,j*4] != 0:\n",
    "        n_iterations[j] = criterion_final\n",
    "    else:\n",
    "        n_iterations[j] = np.where(q_info[:,j*4] == 0)[0][0]"
   ]
  },
  {
   "cell_type": "code",
   "execution_count": 28,
   "metadata": {},
   "outputs": [],
   "source": [
    "# Save for later use\n",
    "np.save(path+'/Output/Baseline/n_iterations', n_iterations)"
   ]
  },
  {
   "cell_type": "markdown",
   "metadata": {},
   "source": [
    "### Descriptive statistics"
   ]
  },
  {
   "cell_type": "markdown",
   "metadata": {},
   "source": [
    "* Average number of iterations per episode"
   ]
  },
  {
   "cell_type": "code",
   "execution_count": 29,
   "metadata": {},
   "outputs": [
    {
     "data": {
      "text/plain": [
       "1141930.59"
      ]
     },
     "execution_count": 29,
     "metadata": {},
     "output_type": "execute_result"
    }
   ],
   "source": [
    "n_iterations.mean()"
   ]
  },
  {
   "cell_type": "markdown",
   "metadata": {},
   "source": [
    "* Number of iterations that did not converge"
   ]
  },
  {
   "cell_type": "code",
   "execution_count": 30,
   "metadata": {},
   "outputs": [
    {
     "data": {
      "text/plain": [
       "4"
      ]
     },
     "execution_count": 30,
     "metadata": {},
     "output_type": "execute_result"
    }
   ],
   "source": [
    "np.sum(n_iterations == criterion_final)"
   ]
  }
 ],
 "metadata": {
  "kernelspec": {
   "display_name": "Python 3",
   "language": "python",
   "name": "python3"
  },
  "language_info": {
   "codemirror_mode": {
    "name": "ipython",
    "version": 3
   },
   "file_extension": ".py",
   "mimetype": "text/x-python",
   "name": "python",
   "nbconvert_exporter": "python",
   "pygments_lexer": "ipython3",
   "version": "3.8.3"
  }
 },
 "nbformat": 4,
 "nbformat_minor": 4
}
