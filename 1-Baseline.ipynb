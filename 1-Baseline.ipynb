{
 "cells": [
  {
   "cell_type": "markdown",
   "metadata": {},
   "source": [
    "# Replicating Calvano et al. (2020)\n",
    "## Baseline\n",
    "### Author: Andréa Epivent"
   ]
  },
  {
   "cell_type": "code",
   "execution_count": 1,
   "metadata": {},
   "outputs": [],
   "source": [
    "# Set working directory\n",
    "#path = \"/Users/admin/Desktop/PhD/RL_AlgorithmicCollusion\"\n",
    "path = \"C:/Users/lambin/Dropbox/Algorithmic_punishment/RL_AlgoCollusion\"\n",
    "\n",
    "# Import packages and custom functions\n",
    "exec(open(path+\"/Functions/import.py\").read())\n",
    "\n",
    "# Import parameters\n",
    "exec(open(path+\"/Functions/parameters.py\").read())"
   ]
  },
  {
   "cell_type": "markdown",
   "metadata": {},
   "source": [
    "### Initialization"
   ]
  },
  {
   "cell_type": "markdown",
   "metadata": {},
   "source": [
    "* Action space"
   ]
  },
  {
   "cell_type": "code",
   "execution_count": 2,
   "metadata": {},
   "outputs": [
    {
     "name": "stdout",
     "output_type": "stream",
     "text": [
      "(15,)\n"
     ]
    }
   ],
   "source": [
    "# m equally spaced points in an interval that includes Nash and monopoly prices\n",
    "A = np.linspace(p_N-ksi*(p_M-p_N),p_M+ksi*(p_M-p_N),m)\n",
    "print(A.shape)"
   ]
  },
  {
   "cell_type": "markdown",
   "metadata": {},
   "source": [
    "* State space"
   ]
  },
  {
   "cell_type": "code",
   "execution_count": 3,
   "metadata": {},
   "outputs": [
    {
     "name": "stdout",
     "output_type": "stream",
     "text": [
      "(225, 2)\n"
     ]
    }
   ],
   "source": [
    "# Combination of prices from last period\n",
    "S = np.zeros([state_space, 2])\n",
    "l = 0\n",
    "for i in A: # price of agent 1\n",
    "    for j in A: # price of agent 2\n",
    "        S[l,0] = i\n",
    "        S[l,1] = j\n",
    "        l += 1\n",
    "print(S.shape)"
   ]
  },
  {
   "cell_type": "code",
   "execution_count": 5,
   "metadata": {},
   "outputs": [],
   "source": [
    "np.save(path+'/Output/Baseline/actions', A)\n",
    "np.save(path+'/Output/Baseline/states', S)"
   ]
  },
  {
   "cell_type": "markdown",
   "metadata": {},
   "source": [
    "* Initialize Q-matrix"
   ]
  },
  {
   "cell_type": "code",
   "execution_count": 6,
   "metadata": {},
   "outputs": [
    {
     "name": "stdout",
     "output_type": "stream",
     "text": [
      "[[5.75190335 5.97100207 6.12637963 ... 4.74337049 4.43287756 4.1174899 ]\n",
      " [5.75190335 5.97100207 6.12637963 ... 4.74337049 4.43287756 4.1174899 ]\n",
      " [5.75190335 5.97100207 6.12637963 ... 4.74337049 4.43287756 4.1174899 ]\n",
      " ...\n",
      " [5.75190335 5.97100207 6.12637963 ... 4.74337049 4.43287756 4.1174899 ]\n",
      " [5.75190335 5.97100207 6.12637963 ... 4.74337049 4.43287756 4.1174899 ]\n",
      " [5.75190335 5.97100207 6.12637963 ... 4.74337049 4.43287756 4.1174899 ]]\n"
     ]
    }
   ],
   "source": [
    "q_table = init_Q(state_space,action_space,A,ci,ai,mu,a0,delta,n)\n",
    "print(q_table)"
   ]
  },
  {
   "cell_type": "markdown",
   "metadata": {},
   "source": [
    "### Training"
   ]
  },
  {
   "cell_type": "markdown",
   "metadata": {},
   "source": [
    "* Launch training"
   ]
  },
  {
   "cell_type": "code",
   "execution_count": 7,
   "metadata": {},
   "outputs": [],
   "source": [
    "# Set number of episodes to 10 for test\n",
    "n_episodes = 10"
   ]
  },
  {
   "cell_type": "code",
   "execution_count": 8,
   "metadata": {},
   "outputs": [
    {
     "name": "stdout",
     "output_type": "stream",
     "text": [
      "Iteration: 1094900\n",
      "Episode: 9\n",
      "Process has converged\n",
      "Training finished, episode: 9\n",
      "--- 26.875856331984203 minutes ---\n"
     ]
    }
   ],
   "source": [
    "q_info, q_tables1, q_tables2 = q_learning_2agents(alpha, beta, criterion, criterion_final, n_episodes, S, A, q_table, ci, ai, mu, a0, delta)"
   ]
  },
  {
   "cell_type": "markdown",
   "metadata": {},
   "source": [
    "* Store results"
   ]
  },
  {
   "cell_type": "code",
   "execution_count": 18,
   "metadata": {},
   "outputs": [],
   "source": [
    "# Information on prices and profits for both agents\n",
    "np.save(path+'/Output/Baseline/q_info', q_info)\n",
    "\n",
    "# Last Q matrix of both agents\n",
    "np.save(path+'/Output/Baseline/q_table_a1', q_tables1)\n",
    "np.save(path+'/Output/Baseline/q_table_a2', q_tables2)\n",
    "\n",
    "# Information on convergence\n",
    "np.save(path+'/Output/Baseline/convergence', conv_info)"
   ]
  }
 ],
 "metadata": {
  "kernelspec": {
   "display_name": "Python 3 (ipykernel)",
   "language": "python",
   "name": "python3"
  },
  "language_info": {
   "codemirror_mode": {
    "name": "ipython",
    "version": 3
   },
   "file_extension": ".py",
   "mimetype": "text/x-python",
   "name": "python",
   "nbconvert_exporter": "python",
   "pygments_lexer": "ipython3",
   "version": "3.8.8"
  }
 },
 "nbformat": 4,
 "nbformat_minor": 4
}
