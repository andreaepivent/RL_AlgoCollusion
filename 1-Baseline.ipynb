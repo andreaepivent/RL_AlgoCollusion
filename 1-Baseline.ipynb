{
 "cells": [
  {
   "cell_type": "markdown",
   "metadata": {},
   "source": [
    "# Replicating Calvano et al. (2020)\n",
    "## Baseline\n",
    "### Author: Andréa Epivent"
   ]
  },
  {
   "cell_type": "code",
   "execution_count": 1,
   "metadata": {},
   "outputs": [],
   "source": [
    "# Set working directory\n",
    "import os\n",
    "path = os.getcwd()\n",
    "\n",
    "# Import packages\n",
    "exec(open(path+\"/packages.py\").read())\n",
    "\n",
    "# Import custom functions\n",
    "from functions import *\n",
    "\n",
    "# Import parameters\n",
    "exec(open(path+\"/parameters.py\").read())"
   ]
  },
  {
   "cell_type": "code",
   "execution_count": 2,
   "metadata": {},
   "outputs": [
    {
     "name": "stdout",
     "output_type": "stream",
     "text": [
      "Directories already exist\n"
     ]
    }
   ],
   "source": [
    "# Create output folders\n",
    "try: \n",
    "    os.mkdir(\"Output\")\n",
    "    os.mkdir(\"Output/Baseline\")\n",
    "    print(\"Directories are created\")\n",
    "except:\n",
    "    print(\"Directories already exist\")"
   ]
  },
  {
   "cell_type": "markdown",
   "metadata": {},
   "source": [
    "### Initialization"
   ]
  },
  {
   "cell_type": "markdown",
   "metadata": {},
   "source": [
    "* Action space"
   ]
  },
  {
   "cell_type": "code",
   "execution_count": 2,
   "metadata": {},
   "outputs": [
    {
     "name": "stdout",
     "output_type": "stream",
     "text": [
      "(15,)\n"
     ]
    }
   ],
   "source": [
    "# m equally spaced points in an interval that includes Nash and monopoly prices\n",
    "A = np.linspace(p_N()-ksi*(p_M()-p_N()),p_M()+ksi*(p_M()-p_N()),m)\n",
    "print(A.shape)"
   ]
  },
  {
   "cell_type": "markdown",
   "metadata": {},
   "source": [
    "* State space"
   ]
  },
  {
   "cell_type": "code",
   "execution_count": 3,
   "metadata": {},
   "outputs": [
    {
     "name": "stdout",
     "output_type": "stream",
     "text": [
      "(225, 2)\n"
     ]
    }
   ],
   "source": [
    "# Combination of prices from last period\n",
    "S = np.zeros([state_space, 2])\n",
    "l = 0\n",
    "for i in A: # price of agent 1\n",
    "    for j in A: # price of agent 2\n",
    "        S[l,0] = i\n",
    "        S[l,1] = j\n",
    "        l += 1\n",
    "print(S.shape)"
   ]
  },
  {
   "cell_type": "code",
   "execution_count": 5,
   "metadata": {},
   "outputs": [],
   "source": [
    "np.save(path+'/Output/Baseline/actions', A)\n",
    "np.save(path+'/Output/Baseline/states', S)"
   ]
  },
  {
   "cell_type": "markdown",
   "metadata": {},
   "source": [
    "* Initialize Q-matrix"
   ]
  },
  {
   "cell_type": "code",
   "execution_count": 4,
   "metadata": {},
   "outputs": [
    {
     "name": "stdout",
     "output_type": "stream",
     "text": [
      "[[5.75190335 5.97100207 6.12637963 ... 4.74337049 4.43287756 4.1174899 ]\n",
      " [5.75190335 5.97100207 6.12637963 ... 4.74337049 4.43287756 4.1174899 ]\n",
      " [5.75190335 5.97100207 6.12637963 ... 4.74337049 4.43287756 4.1174899 ]\n",
      " ...\n",
      " [5.75190335 5.97100207 6.12637963 ... 4.74337049 4.43287756 4.1174899 ]\n",
      " [5.75190335 5.97100207 6.12637963 ... 4.74337049 4.43287756 4.1174899 ]\n",
      " [5.75190335 5.97100207 6.12637963 ... 4.74337049 4.43287756 4.1174899 ]]\n"
     ]
    }
   ],
   "source": [
    "q_table = init_Q(A)\n",
    "print(q_table)"
   ]
  },
  {
   "cell_type": "markdown",
   "metadata": {},
   "source": [
    "### Training"
   ]
  },
  {
   "cell_type": "markdown",
   "metadata": {},
   "source": [
    "* Launch training"
   ]
  },
  {
   "cell_type": "code",
   "execution_count": 6,
   "metadata": {},
   "outputs": [
    {
     "name": "stdout",
     "output_type": "stream",
     "text": [
      "Iteration: 1258200\n",
      "Episode: 9\n",
      "Process has converged\n",
      "Training finished, episode: 9\n",
      "--- 25.898724432786306 minutes ---\n"
     ]
    }
   ],
   "source": [
    "# Test - leaving all print and saving q_info at each iteration\n",
    "q_info, q_tables1, q_tables2 = q_learning_2agents(S, A, q_table, n_episodes=10)"
   ]
  },
  {
   "cell_type": "code",
   "execution_count": 5,
   "metadata": {},
   "outputs": [
    {
     "name": "stdout",
     "output_type": "stream",
     "text": [
      "--- 21.975573404630026 minutes ---\n"
     ]
    }
   ],
   "source": [
    "# Test - Not saving q_info\n",
    "q_tables1, q_tables2 = q_learning_2agents(S, A, q_table, n_episodes=10, save_info=False)"
   ]
  },
  {
   "cell_type": "code",
   "execution_count": 6,
   "metadata": {},
   "outputs": [
    {
     "name": "stdout",
     "output_type": "stream",
     "text": [
      "Iteration: 2696000\n",
      "Episode: 9\n",
      "Process has converged\n",
      "Training finished, episode: 9\n",
      "--- 43.87923192183177 minutes ---\n"
     ]
    }
   ],
   "source": [
    "# Test - With Calvano's convergence criterion\n",
    "# Save_info must be set to False, otherwise a memory error occurs\n",
    "q_tables1, q_tables2 = q_learning_2agents(S, A, q_table, n_episodes=10, criterion=int(1e5), criterion_final=int(1e9), save_info=False)"
   ]
  },
  {
   "cell_type": "markdown",
   "metadata": {},
   "source": [
    "* Store results"
   ]
  },
  {
   "cell_type": "code",
   "execution_count": null,
   "metadata": {},
   "outputs": [],
   "source": [
    "# Information on prices and profits throughout simulation for both agents\n",
    "try:\n",
    "    np.save(path+'/Output/Baseline/q_info', q_info)\n",
    "except:\n",
    "    pass\n",
    "\n",
    "# Last Q matrix of both agents\n",
    "np.save(path+'/Output/Baseline/q_table_a1', q_tables1)\n",
    "np.save(path+'/Output/Baseline/q_table_a2', q_tables2)"
   ]
  }
 ],
 "metadata": {
  "kernelspec": {
   "display_name": "Python 3 (ipykernel)",
   "language": "python",
   "name": "python3"
  },
  "language_info": {
   "codemirror_mode": {
    "name": "ipython",
    "version": 3
   },
   "file_extension": ".py",
   "mimetype": "text/x-python",
   "name": "python",
   "nbconvert_exporter": "python",
   "pygments_lexer": "ipython3",
   "version": "3.8.8"
  }
 },
 "nbformat": 4,
 "nbformat_minor": 4
}
