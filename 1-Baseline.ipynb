{
 "cells": [
  {
   "cell_type": "markdown",
   "metadata": {},
   "source": [
    "# Replicating Calvano et al. (2020)\n",
    "## Baseline\n",
    "### Author: Andréa Epivent"
   ]
  },
  {
   "cell_type": "code",
   "execution_count": 1,
   "metadata": {},
   "outputs": [],
   "source": [
    "# Set working directory\n",
    "import os\n",
    "path = os.getcwd()\n",
    "\n",
    "# Import packages\n",
    "exec(open(path+\"/packages.py\").read())\n",
    "\n",
    "# Import custom functions\n",
    "from functions import *\n",
    "\n",
    "# Import parameters\n",
    "exec(open(path+\"/parameters.py\").read())"
   ]
  },
  {
   "cell_type": "code",
   "execution_count": 2,
   "metadata": {},
   "outputs": [
    {
     "name": "stdout",
     "output_type": "stream",
     "text": [
      "Directories already exist\n"
     ]
    }
   ],
   "source": [
    "# Create output folders\n",
    "try: \n",
    "    os.mkdir(\"Output\")\n",
    "    os.mkdir(\"Output/Baseline\")\n",
    "    print(\"Directories are created\")\n",
    "except:\n",
    "    print(\"Directories already exist\")"
   ]
  },
  {
   "cell_type": "markdown",
   "metadata": {},
   "source": [
    "### Initialization"
   ]
  },
  {
   "cell_type": "markdown",
   "metadata": {},
   "source": [
    "* Action space"
   ]
  },
  {
   "cell_type": "code",
   "execution_count": 3,
   "metadata": {},
   "outputs": [
    {
     "name": "stdout",
     "output_type": "stream",
     "text": [
      "(15,)\n",
      "[1.42772123 1.46646874 1.50521625 1.54396376 1.58271127 1.62145877\n",
      " 1.66020628 1.69895379 1.7377013  1.77644881 1.81519631 1.85394382\n",
      " 1.89269133 1.93143884 1.97018634]\n"
     ]
    }
   ],
   "source": [
    "# m equally spaced points in an interval that includes Nash and monopoly prices\n",
    "A = np.linspace(p_N()-ksi*(p_M()-p_N()),p_M()+ksi*(p_M()-p_N()),m)\n",
    "print(A.shape)\n",
    "print(A)"
   ]
  },
  {
   "cell_type": "markdown",
   "metadata": {},
   "source": [
    "* State space"
   ]
  },
  {
   "cell_type": "code",
   "execution_count": 4,
   "metadata": {},
   "outputs": [
    {
     "name": "stdout",
     "output_type": "stream",
     "text": [
      "(225, 2)\n"
     ]
    }
   ],
   "source": [
    "# Combination of prices from last period\n",
    "S = np.zeros([state_space, 2])\n",
    "l = 0\n",
    "for i in A: # price of agent 1\n",
    "    for j in A: # price of agent 2\n",
    "        S[l,0] = i\n",
    "        S[l,1] = j\n",
    "        l += 1\n",
    "print(S.shape)"
   ]
  },
  {
   "cell_type": "code",
   "execution_count": 5,
   "metadata": {},
   "outputs": [],
   "source": [
    "np.save(path+'/Output/Baseline/actions', A)\n",
    "np.save(path+'/Output/Baseline/states', S)"
   ]
  },
  {
   "cell_type": "markdown",
   "metadata": {},
   "source": [
    "* Initialize Q-matrix"
   ]
  },
  {
   "cell_type": "code",
   "execution_count": 6,
   "metadata": {},
   "outputs": [
    {
     "name": "stdout",
     "output_type": "stream",
     "text": [
      "[[5.7897605  6.00810841 6.16208425 ... 4.74351758 4.42959923 4.11117874]\n",
      " [5.7897605  6.00810841 6.16208425 ... 4.74351758 4.42959923 4.11117874]\n",
      " [5.7897605  6.00810841 6.16208425 ... 4.74351758 4.42959923 4.11117874]\n",
      " ...\n",
      " [5.7897605  6.00810841 6.16208425 ... 4.74351758 4.42959923 4.11117874]\n",
      " [5.7897605  6.00810841 6.16208425 ... 4.74351758 4.42959923 4.11117874]\n",
      " [5.7897605  6.00810841 6.16208425 ... 4.74351758 4.42959923 4.11117874]]\n"
     ]
    }
   ],
   "source": [
    "q_table = init_Q(A)\n",
    "print(q_table)"
   ]
  },
  {
   "cell_type": "markdown",
   "metadata": {},
   "source": [
    "### Training"
   ]
  },
  {
   "cell_type": "markdown",
   "metadata": {},
   "source": [
    "* Launch training"
   ]
  },
  {
   "cell_type": "code",
   "execution_count": 7,
   "metadata": {},
   "outputs": [
    {
     "name": "stdout",
     "output_type": "stream",
     "text": [
      "Iteration: 1913700\n",
      "Episode: 999\n",
      "Process has converged\n",
      "Training finished, episode: 999\n",
      "--- 4251.674920860926 minutes ---\n"
     ]
    }
   ],
   "source": [
    "conv_info, q_tables1, q_tables2 = q_learning_2agents(S, A, q_table, save_info=False)"
   ]
  },
  {
   "cell_type": "markdown",
   "metadata": {},
   "source": [
    "* Store results"
   ]
  },
  {
   "cell_type": "code",
   "execution_count": 10,
   "metadata": {},
   "outputs": [],
   "source": [
    "# Information on prices and profits throughout simulation for both agents\n",
    "try:\n",
    "    np.save(path+'/Output/Baseline/q_info', q_info)\n",
    "except:\n",
    "    pass\n",
    "\n",
    "# Number of iterations per episode\n",
    "np.save(path+'/Output/Baseline/conv_info', conv_info)\n",
    "\n",
    "# Last Q matrix of both agents\n",
    "np.save(path+'/Output/Baseline/q_table_a1', q_tables1)\n",
    "np.save(path+'/Output/Baseline/q_table_a2', q_tables2)"
   ]
  }
 ],
 "metadata": {
  "kernelspec": {
   "display_name": "Python 3 (ipykernel)",
   "language": "python",
   "name": "python3"
  },
  "language_info": {
   "codemirror_mode": {
    "name": "ipython",
    "version": 3
   },
   "file_extension": ".py",
   "mimetype": "text/x-python",
   "name": "python",
   "nbconvert_exporter": "python",
   "pygments_lexer": "ipython3",
   "version": "3.8.8"
  }
 },
 "nbformat": 4,
 "nbformat_minor": 4
}
